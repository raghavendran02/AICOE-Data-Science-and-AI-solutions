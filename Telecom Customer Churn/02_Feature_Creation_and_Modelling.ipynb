{
 "cells": [
  {
   "cell_type": "markdown",
   "metadata": {},
   "source": [
    "### Loading required libraries"
   ]
  },
  {
   "cell_type": "code",
   "execution_count": 1,
   "metadata": {},
   "outputs": [],
   "source": [
    "import pandas as pd\n",
    "import numpy as np\n",
    "import matplotlib.pyplot as plt\n",
    "from sklearn.model_selection import train_test_split\n",
    "from sklearn.preprocessing import OneHotEncoder\n",
    "import seaborn as sns\n",
    "import warnings\n",
    "warnings.filterwarnings('ignore')"
   ]
  },
  {
   "cell_type": "markdown",
   "metadata": {},
   "source": [
    "### Loading required datasets"
   ]
  },
  {
   "cell_type": "code",
   "execution_count": 2,
   "metadata": {},
   "outputs": [],
   "source": [
    "data = pd.read_csv('../data/Telco_Customer_Churn.csv')\n",
    "\n",
    "### Removing Total charge column as it is a derived column from Monthly Charge & Tenure\n",
    "data = data.drop('TotalCharges',axis = 1)\n",
    "\n",
    "### Creating Target Label (Encoding target label to 0 & 1)\n",
    "data.Churn = np.where(data.Churn == 'Yes',1,0)\n",
    "## 1 - Churn Event, 0 - Non-Churn Event"
   ]
  },
  {
   "cell_type": "markdown",
   "metadata": {},
   "source": [
    "### Splitting the dataset into test & train set"
   ]
  },
  {
   "cell_type": "code",
   "execution_count": 3,
   "metadata": {},
   "outputs": [],
   "source": [
    "X = data.drop('Churn',axis=1)\n",
    "Y = data.Churn\n",
    "X_train, X_test, y_train, y_test = train_test_split(X,Y, test_size=0.3, random_state=111, shuffle=True)"
   ]
  },
  {
   "cell_type": "markdown",
   "metadata": {},
   "source": [
    "### Feature Creation & Feature Transformation "
   ]
  },
  {
   "cell_type": "markdown",
   "metadata": {},
   "source": [
    "### Label Encoding"
   ]
  },
  {
   "cell_type": "markdown",
   "metadata": {},
   "source": [
    "<p style='color:blue;font-family:\"Verdana\";'>\n",
    "<b>Label Encoding</b> refers to conversion of categorical labels into numeric form which is acceptable by machine learning algorithms.<br></p>\n",
    "<img src='https://i.imgur.com/tEogUAr.png'/>"
   ]
  },
  {
   "cell_type": "code",
   "execution_count": 4,
   "metadata": {},
   "outputs": [],
   "source": [
    "### Function to apply Label Encoding\n",
    "def applyLabelEncoding(inputSet):\n",
    "    \n",
    "    ## Encoding Gender variable\n",
    "    inputSet['gender'] = np.where(inputSet.gender == 'Male',1,0)\n",
    "    \n",
    "    ## Encoding Partner Variable\n",
    "    inputSet['Partner'] = np.where(inputSet.Partner == 'Yes',1,0)\n",
    "    \n",
    "    ## Encoding Dependents variable\n",
    "    inputSet['Dependents'] = np.where(inputSet.Dependents == 'Yes',1,0)\n",
    "    \n",
    "    ## Encoding PaperlessBilling\n",
    "    inputSet['PaperlessBilling'] = np.where(inputSet.PaperlessBilling == 'Yes',1,0)\n",
    "    \n",
    "    ## Encoding Phone Service\n",
    "    inputSet['PhoneService'] = np.where(inputSet.PhoneService == 'Yes',1,0)\n",
    "    \n",
    "    ## Encoding MultipleLines\n",
    "    inputSet.MultipleLines = np.where(inputSet.MultipleLines == 'Yes',1,\n",
    "                                           np.where(inputSet.MultipleLines == 'No',0,-1))\n",
    "    \n",
    "    # Encoding Online Security\n",
    "    inputSet.OnlineSecurity = np.where(inputSet.OnlineSecurity == 'Yes',1,\n",
    "                                           np.where(inputSet.OnlineSecurity == 'No',0,-1))\n",
    "    # Encoding Online Backup\n",
    "    inputSet.OnlineBackup = np.where(inputSet.OnlineBackup == 'Yes',1,\n",
    "                                           np.where(inputSet.OnlineBackup == 'No',0,-1))\n",
    "    # Encoding Device Protection\n",
    "    inputSet.DeviceProtection = np.where(inputSet.DeviceProtection == 'Yes',1,\n",
    "                                           np.where(inputSet.DeviceProtection == 'No',0,-1))\n",
    "    # Encoding TechSupport\n",
    "    inputSet.TechSupport = np.where(inputSet.TechSupport == 'Yes',1,\n",
    "                                           np.where(inputSet.TechSupport == 'No',0,-1))\n",
    "    # Encoding StreamingTV\n",
    "    inputSet.StreamingTV = np.where(inputSet.StreamingTV == 'Yes',1,\n",
    "                                           np.where(inputSet.StreamingTV == 'No',0,-1))\n",
    "    # Encoding StreamingMovies\n",
    "    inputSet.StreamingMovies = np.where(inputSet.StreamingMovies == 'Yes',1,\n",
    "                                           np.where(inputSet.StreamingMovies == 'No',0,-1))\n",
    "    \n",
    "    ### Derived variable\n",
    "    inputSet['cntInternetAmneties'] = inputSet['OnlineSecurity'] + inputSet['OnlineBackup'] + inputSet['DeviceProtection'] + inputSet['TechSupport'] + inputSet['StreamingTV'] + inputSet['StreamingMovies']\n",
    "                                        \n",
    "    \n",
    "    return(inputSet)"
   ]
  },
  {
   "cell_type": "code",
   "execution_count": 5,
   "metadata": {},
   "outputs": [],
   "source": [
    "### Applying Label Encoding\n",
    "X_train = applyLabelEncoding(X_train)\n",
    "X_test = applyLabelEncoding(X_test)"
   ]
  },
  {
   "cell_type": "markdown",
   "metadata": {},
   "source": [
    "### Dummy Encoding"
   ]
  },
  {
   "cell_type": "markdown",
   "metadata": {},
   "source": [
    "<p style='color:blue;font-family:\"Verdana\";'>\n",
    "There are two different ways to encoding categorical variables. Say, one categorical variable has n values. <br>\n",
    "<b>One-hot encoding</b> converts it into n variables, while <b>Dummy encoding</b> converts it into n-1 variables. <br><br>\n",
    "If we have k categorical variables, each of which has n values.\n",
    "One hot encoding ends up with kn variables, while dummy encoding ends up with kn-k variables.\n",
    "</p>"
   ]
  },
  {
   "cell_type": "markdown",
   "metadata": {},
   "source": [
    "<img src='https://www.googleapis.com/download/storage/v1/b/kaggle-forum-message-attachments/o/inbox%2F5315434%2Fa9886ea90db74aad0b2f86d2686c337b%2Fohe-vs-dummy.png?generation=1601465979026694&alt=media'/>"
   ]
  },
  {
   "cell_type": "code",
   "execution_count": 6,
   "metadata": {},
   "outputs": [],
   "source": [
    "cols_to_dummy_encode = ['PaymentMethod', 'Contract', 'InternetService']\n",
    "\n",
    "def getEncoder(columns):\n",
    "    enc = OneHotEncoder(drop='first')\n",
    "    enc.fit(X_train[columns])\n",
    "    return(enc)\n",
    "\n",
    "encoder = getEncoder(cols_to_dummy_encode)\n",
    "\n",
    "def dummyEncodeVariables(inputSet,columns,encoder):\n",
    "    trans_array = encoder.transform(inputSet[columns]).toarray()\n",
    "    df = pd.DataFrame(trans_array,columns=encoder.get_feature_names_out())\n",
    "    return(df)"
   ]
  },
  {
   "cell_type": "code",
   "execution_count": 8,
   "metadata": {},
   "outputs": [],
   "source": [
    "train_dummy_vars = dummyEncodeVariables(inputSet = X_train,columns= cols_to_dummy_encode,encoder=encoder)\n",
    "test_dummy_vars = dummyEncodeVariables(inputSet = X_test,columns= cols_to_dummy_encode,encoder=encoder)\n",
    "\n",
    "X_train = X_train.drop(cols_to_dummy_encode,axis=1)\n",
    "X_test = X_test.drop(cols_to_dummy_encode,axis=1)\n",
    "\n",
    "X_train = pd.concat([X_train.reset_index(drop=True), train_dummy_vars], axis=1)\n",
    "X_test = pd.concat([X_test.reset_index(drop=True), test_dummy_vars], axis=1)\n",
    "\n",
    "feats_train_X = X_train.drop('customerID',axis=1)\n",
    "feats_test_X = X_test.drop('customerID',axis=1)"
   ]
  },
  {
   "cell_type": "code",
   "execution_count": 9,
   "metadata": {},
   "outputs": [
    {
     "data": {
      "text/html": [
       "<div>\n",
       "<style scoped>\n",
       "    .dataframe tbody tr th:only-of-type {\n",
       "        vertical-align: middle;\n",
       "    }\n",
       "\n",
       "    .dataframe tbody tr th {\n",
       "        vertical-align: top;\n",
       "    }\n",
       "\n",
       "    .dataframe thead th {\n",
       "        text-align: right;\n",
       "    }\n",
       "</style>\n",
       "<table border=\"1\" class=\"dataframe\">\n",
       "  <thead>\n",
       "    <tr style=\"text-align: right;\">\n",
       "      <th></th>\n",
       "      <th>PaymentMethod_Credit card (automatic)</th>\n",
       "      <th>PaymentMethod_Electronic check</th>\n",
       "      <th>PaymentMethod_Mailed check</th>\n",
       "      <th>Contract_One year</th>\n",
       "      <th>Contract_Two year</th>\n",
       "      <th>InternetService_Fiber optic</th>\n",
       "      <th>InternetService_No</th>\n",
       "    </tr>\n",
       "  </thead>\n",
       "  <tbody>\n",
       "    <tr>\n",
       "      <th>0</th>\n",
       "      <td>0.0</td>\n",
       "      <td>1.0</td>\n",
       "      <td>0.0</td>\n",
       "      <td>0.0</td>\n",
       "      <td>0.0</td>\n",
       "      <td>1.0</td>\n",
       "      <td>0.0</td>\n",
       "    </tr>\n",
       "    <tr>\n",
       "      <th>1</th>\n",
       "      <td>1.0</td>\n",
       "      <td>0.0</td>\n",
       "      <td>0.0</td>\n",
       "      <td>0.0</td>\n",
       "      <td>1.0</td>\n",
       "      <td>0.0</td>\n",
       "      <td>0.0</td>\n",
       "    </tr>\n",
       "    <tr>\n",
       "      <th>2</th>\n",
       "      <td>1.0</td>\n",
       "      <td>0.0</td>\n",
       "      <td>0.0</td>\n",
       "      <td>0.0</td>\n",
       "      <td>1.0</td>\n",
       "      <td>0.0</td>\n",
       "      <td>1.0</td>\n",
       "    </tr>\n",
       "    <tr>\n",
       "      <th>3</th>\n",
       "      <td>1.0</td>\n",
       "      <td>0.0</td>\n",
       "      <td>0.0</td>\n",
       "      <td>0.0</td>\n",
       "      <td>1.0</td>\n",
       "      <td>0.0</td>\n",
       "      <td>0.0</td>\n",
       "    </tr>\n",
       "    <tr>\n",
       "      <th>4</th>\n",
       "      <td>0.0</td>\n",
       "      <td>0.0</td>\n",
       "      <td>1.0</td>\n",
       "      <td>1.0</td>\n",
       "      <td>0.0</td>\n",
       "      <td>0.0</td>\n",
       "      <td>0.0</td>\n",
       "    </tr>\n",
       "    <tr>\n",
       "      <th>...</th>\n",
       "      <td>...</td>\n",
       "      <td>...</td>\n",
       "      <td>...</td>\n",
       "      <td>...</td>\n",
       "      <td>...</td>\n",
       "      <td>...</td>\n",
       "      <td>...</td>\n",
       "    </tr>\n",
       "    <tr>\n",
       "      <th>4925</th>\n",
       "      <td>0.0</td>\n",
       "      <td>1.0</td>\n",
       "      <td>0.0</td>\n",
       "      <td>0.0</td>\n",
       "      <td>0.0</td>\n",
       "      <td>1.0</td>\n",
       "      <td>0.0</td>\n",
       "    </tr>\n",
       "    <tr>\n",
       "      <th>4926</th>\n",
       "      <td>0.0</td>\n",
       "      <td>1.0</td>\n",
       "      <td>0.0</td>\n",
       "      <td>0.0</td>\n",
       "      <td>1.0</td>\n",
       "      <td>0.0</td>\n",
       "      <td>0.0</td>\n",
       "    </tr>\n",
       "    <tr>\n",
       "      <th>4927</th>\n",
       "      <td>0.0</td>\n",
       "      <td>0.0</td>\n",
       "      <td>1.0</td>\n",
       "      <td>0.0</td>\n",
       "      <td>0.0</td>\n",
       "      <td>1.0</td>\n",
       "      <td>0.0</td>\n",
       "    </tr>\n",
       "    <tr>\n",
       "      <th>4928</th>\n",
       "      <td>0.0</td>\n",
       "      <td>1.0</td>\n",
       "      <td>0.0</td>\n",
       "      <td>0.0</td>\n",
       "      <td>0.0</td>\n",
       "      <td>0.0</td>\n",
       "      <td>1.0</td>\n",
       "    </tr>\n",
       "    <tr>\n",
       "      <th>4929</th>\n",
       "      <td>0.0</td>\n",
       "      <td>0.0</td>\n",
       "      <td>1.0</td>\n",
       "      <td>1.0</td>\n",
       "      <td>0.0</td>\n",
       "      <td>1.0</td>\n",
       "      <td>0.0</td>\n",
       "    </tr>\n",
       "  </tbody>\n",
       "</table>\n",
       "<p>4930 rows × 7 columns</p>\n",
       "</div>"
      ],
      "text/plain": [
       "      PaymentMethod_Credit card (automatic)  PaymentMethod_Electronic check  \\\n",
       "0                                       0.0                             1.0   \n",
       "1                                       1.0                             0.0   \n",
       "2                                       1.0                             0.0   \n",
       "3                                       1.0                             0.0   \n",
       "4                                       0.0                             0.0   \n",
       "...                                     ...                             ...   \n",
       "4925                                    0.0                             1.0   \n",
       "4926                                    0.0                             1.0   \n",
       "4927                                    0.0                             0.0   \n",
       "4928                                    0.0                             1.0   \n",
       "4929                                    0.0                             0.0   \n",
       "\n",
       "      PaymentMethod_Mailed check  Contract_One year  Contract_Two year  \\\n",
       "0                            0.0                0.0                0.0   \n",
       "1                            0.0                0.0                1.0   \n",
       "2                            0.0                0.0                1.0   \n",
       "3                            0.0                0.0                1.0   \n",
       "4                            1.0                1.0                0.0   \n",
       "...                          ...                ...                ...   \n",
       "4925                         0.0                0.0                0.0   \n",
       "4926                         0.0                0.0                1.0   \n",
       "4927                         1.0                0.0                0.0   \n",
       "4928                         0.0                0.0                0.0   \n",
       "4929                         1.0                1.0                0.0   \n",
       "\n",
       "      InternetService_Fiber optic  InternetService_No  \n",
       "0                             1.0                 0.0  \n",
       "1                             0.0                 0.0  \n",
       "2                             0.0                 1.0  \n",
       "3                             0.0                 0.0  \n",
       "4                             0.0                 0.0  \n",
       "...                           ...                 ...  \n",
       "4925                          1.0                 0.0  \n",
       "4926                          0.0                 0.0  \n",
       "4927                          1.0                 0.0  \n",
       "4928                          0.0                 1.0  \n",
       "4929                          1.0                 0.0  \n",
       "\n",
       "[4930 rows x 7 columns]"
      ]
     },
     "execution_count": 9,
     "metadata": {},
     "output_type": "execute_result"
    }
   ],
   "source": [
    "train_dummy_vars"
   ]
  },
  {
   "cell_type": "markdown",
   "metadata": {},
   "source": [
    "### Model Building"
   ]
  },
  {
   "cell_type": "markdown",
   "metadata": {},
   "source": [
    "### Logistic Regression"
   ]
  },
  {
   "cell_type": "markdown",
   "metadata": {},
   "source": [
    "<p style='color:blue;font-family:\"Verdana\";'>\n",
    "Logistic regression is a statistical model that in its basic form uses a logistic function to model a binary dependent variable, although many more complex extensions exist. In regression analysis, logistic regression is estimating the parameters of a logistic model (a form of binary regression). Mathematically, a binary logistic model has a dependent variable with two possible values, such as <b>pass/fail</b> which is represented by an indicator variable, where the two values are labeled \"0\" and \"1\"\n",
    "</p>"
   ]
  },
  {
   "cell_type": "markdown",
   "metadata": {},
   "source": [
    "<img src='https://miro.medium.com/max/640/0*gKOV65tvGfY8SMem.png'/>\n"
   ]
  },
  {
   "cell_type": "code",
   "execution_count": 10,
   "metadata": {},
   "outputs": [
    {
     "name": "stdout",
     "output_type": "stream",
     "text": [
      "Accuracy: 0.7979176526265973\n",
      "AUC Score: 0.7153480032090853\n",
      "Precision Score: 0.6008316008316008\n",
      "Recall Score: 0.5515267175572519\n",
      "F1 Score: 0.5751243781094527\n"
     ]
    }
   ],
   "source": [
    "from sklearn.linear_model import LogisticRegression\n",
    "from sklearn import metrics \n",
    "\n",
    "### Instantiating the logistic regression object\n",
    "logreg_clf = LogisticRegression(random_state=123)\n",
    "\n",
    "### Fitting the model\n",
    "logreg_clf = logreg_clf.fit(feats_train_X, y_train)\n",
    "\n",
    "### Predicting the response on the testset\n",
    "logreg_test_pred = logreg_clf.predict(feats_test_X)\n",
    "\n",
    "### Model perfomance on test set\n",
    "print(\"Accuracy:\",metrics.accuracy_score(y_test, logreg_test_pred))\n",
    "print(\"AUC Score:\",metrics.roc_auc_score(y_test, logreg_test_pred))\n",
    "p,r,f,_ = metrics.precision_recall_fscore_support(y_test, logreg_test_pred,average='binary')\n",
    "print(\"Precision Score:\",p)\n",
    "print(\"Recall Score:\",r)\n",
    "print(\"F1 Score:\",f)"
   ]
  },
  {
   "cell_type": "markdown",
   "metadata": {},
   "source": [
    "### Descision Tree Classifier"
   ]
  },
  {
   "cell_type": "markdown",
   "metadata": {},
   "source": [
    "<p style='color:blue;font-family:\"Verdana\";'>\n",
    "Decision tree learning is one of the predictive modelling approaches used in statistics, data mining and machine learning. It uses a decision tree (as a predictive model) to go from observations about an item (represented in the branches) to conclusions about the item's target value (represented in the leaves). Tree models where the target variable can take a discrete set of values are called classification trees; in these tree structures, leaves represent class labels and branches represent conjunctions of features that lead to those class labels.\n",
    "</p>"
   ]
  },
  {
   "cell_type": "markdown",
   "metadata": {},
   "source": [
    "<img src='https://www.saedsayad.com/images/Decision_Tree_1.png'/>"
   ]
  },
  {
   "cell_type": "code",
   "execution_count": 11,
   "metadata": {},
   "outputs": [
    {
     "name": "stdout",
     "output_type": "stream",
     "text": [
      "Accuracy: 0.7278750591575959\n",
      "AUC Score: 0.6687778332908978\n",
      "Precision Score: 0.4594594594594595\n",
      "Recall Score: 0.5515267175572519\n",
      "F1 Score: 0.5013009540329575\n"
     ]
    }
   ],
   "source": [
    "from sklearn.tree import DecisionTreeClassifier\n",
    "\n",
    "\n",
    "# Create Decision Tree classifer object\n",
    "dtree_clf = DecisionTreeClassifier(random_state=123)\n",
    "\n",
    "# Train Decision Tree Classifer\n",
    "dtree_clf = dtree_clf.fit(feats_train_X,y_train)\n",
    "\n",
    "#Predict the response for test dataset\n",
    "dtree_test_pred = dtree_clf.predict(feats_test_X)\n",
    "\n",
    "### Model perfomance on test set\n",
    "print(\"Accuracy:\",metrics.accuracy_score(y_test, dtree_test_pred))\n",
    "print(\"AUC Score:\",metrics.roc_auc_score(y_test, dtree_test_pred))\n",
    "p,r,f,_ = metrics.precision_recall_fscore_support(y_test, dtree_test_pred,average='binary')\n",
    "print(\"Precision Score:\",p)\n",
    "print(\"Recall Score:\",r)\n",
    "print(\"F1 Score:\",f)"
   ]
  },
  {
   "cell_type": "markdown",
   "metadata": {},
   "source": [
    "### Random Forest Classifier"
   ]
  },
  {
   "cell_type": "markdown",
   "metadata": {},
   "source": [
    "<p style='color:blue;font-family:\"Verdana\";'>\n",
    "Random forests classifier is an ensemble learning method for classification, regression and other tasks that operate by constructing a multitude of decision trees at training time and outputting the class that is the mode of the classes (classification) or mean/average prediction (regression) of the individual trees. Random forests generally outperform decision trees, but their accuracy is lower than gradient boosted trees. \n",
    "</p>"
   ]
  },
  {
   "cell_type": "markdown",
   "metadata": {},
   "source": [
    "<img src='https://i.ytimg.com/vi/goPiwckWE9M/maxresdefault.jpg'/>"
   ]
  },
  {
   "cell_type": "code",
   "execution_count": 12,
   "metadata": {},
   "outputs": [
    {
     "name": "stdout",
     "output_type": "stream",
     "text": [
      "Accuracy: 0.7960246095598675\n",
      "AUC Score: 0.7019381818705893\n",
      "Precision Score: 0.6040268456375839\n",
      "Recall Score: 0.5152671755725191\n",
      "F1 Score: 0.5561277033985582\n"
     ]
    }
   ],
   "source": [
    "from sklearn.ensemble import RandomForestClassifier\n",
    "\n",
    "#Create a Random Forest Classifier\n",
    "rf_clf=RandomForestClassifier(n_estimators=100,random_state=123)\n",
    "\n",
    "#Train the model using the training sets y_pred=clf.predict(X_test)\n",
    "rf_clf = rf_clf.fit(feats_train_X,y_train)\n",
    "\n",
    "# Predicting on the test set\n",
    "rf_test_pred = rf_clf.predict(feats_test_X)\n",
    "\n",
    "### Model perfomance on test set\n",
    "print(\"Accuracy:\",metrics.accuracy_score(y_test, rf_test_pred))\n",
    "print(\"AUC Score:\",metrics.roc_auc_score(y_test, rf_test_pred))\n",
    "p,r,f,_ = metrics.precision_recall_fscore_support(y_test, rf_test_pred,average='binary')\n",
    "print(\"Precision Score:\",p)\n",
    "print(\"Recall Score:\",r)\n",
    "print(\"F1 Score:\",f)"
   ]
  },
  {
   "cell_type": "markdown",
   "metadata": {},
   "source": [
    "### XGBoost Classifier"
   ]
  },
  {
   "cell_type": "markdown",
   "metadata": {},
   "source": [
    "<p style='color:blue;font-family:\"Verdana\";'>\n",
    "Gradient boosting is a machine learning technique for regression and classification problems, which produces a prediction model in the form of an ensemble of weak prediction models, typically decision trees. It builds the model in a stage-wise fashion like other boosting methods do, and it generalizes them by allowing optimization of an arbitrary differentiable loss function.\n",
    "Gradient Boosting algorithms optimizes a cost function over function space by iteratively choosing a function (weak hypothesis) that points in the negative gradient direction.   \n",
    "</p>"
   ]
  },
  {
   "cell_type": "markdown",
   "metadata": {},
   "source": [
    "<img src='http://uc-r.github.io/public/images/analytics/gbm/boosted-trees-process.png'/>"
   ]
  },
  {
   "cell_type": "code",
   "execution_count": 13,
   "metadata": {},
   "outputs": [
    {
     "name": "stdout",
     "output_type": "stream",
     "text": [
      "Accuracy: 0.8002839564600095\n",
      "AUC Score: 0.7156422494343267\n",
      "Precision Score: 0.6080508474576272\n",
      "Recall Score: 0.5477099236641222\n",
      "F1 Score: 0.5763052208835341\n"
     ]
    }
   ],
   "source": [
    "from sklearn.ensemble import GradientBoostingClassifier\n",
    "\n",
    "xgb_clf = GradientBoostingClassifier(n_estimators=100,\n",
    "                                 learning_rate=1.0,\n",
    "                                 max_depth=1,\n",
    "                                 random_state=111).fit(feats_train_X, y_train)\n",
    "\n",
    "xgb_test_pred = xgb_clf.predict(feats_test_X)\n",
    "\n",
    "### Model perfomance on test set\n",
    "print(\"Accuracy:\",metrics.accuracy_score(y_test, xgb_test_pred))\n",
    "print(\"AUC Score:\",metrics.roc_auc_score(y_test, xgb_test_pred))\n",
    "p,r,f,_ = metrics.precision_recall_fscore_support(y_test, xgb_test_pred,average='binary')\n",
    "print(\"Precision Score:\",p)\n",
    "print(\"Recall Score:\",r)\n",
    "print(\"F1 Score:\",f)"
   ]
  },
  {
   "cell_type": "markdown",
   "metadata": {},
   "source": [
    "### Neural Network Classifier"
   ]
  },
  {
   "cell_type": "markdown",
   "metadata": {},
   "source": [
    "Please refer below link for information about Multi Layer Perceptron Neural network classifier\n",
    "\n",
    "https://scikit-learn.org/stable/modules/neural_networks_supervised.html"
   ]
  },
  {
   "cell_type": "code",
   "execution_count": 14,
   "metadata": {},
   "outputs": [
    {
     "name": "stdout",
     "output_type": "stream",
     "text": [
      "Accuracy: 0.808329389493611\n",
      "AUC Score: 0.7158752444045177\n",
      "Precision Score: 0.6355353075170843\n",
      "Recall Score: 0.5324427480916031\n",
      "F1 Score: 0.5794392523364487\n"
     ]
    }
   ],
   "source": [
    "from sklearn.neural_network import MLPClassifier\n",
    "\n",
    "nn_clf = MLPClassifier(hidden_layer_sizes=(12,12,8), activation='relu', solver='adam', max_iter=500,random_state=123)\n",
    "nn_clf = nn_clf.fit(feats_train_X,y_train)\n",
    "\n",
    "nn_test_pred = nn_clf.predict(feats_test_X)\n",
    "\n",
    "### Model perfomance on test set\n",
    "print(\"Accuracy:\",metrics.accuracy_score(y_test, nn_test_pred))\n",
    "print(\"AUC Score:\",metrics.roc_auc_score(y_test, nn_test_pred))\n",
    "p,r,f,_ = metrics.precision_recall_fscore_support(y_test, nn_test_pred,average='binary')\n",
    "print(\"Precision Score:\",p)\n",
    "print(\"Recall Score:\",r)\n",
    "print(\"F1 Score:\",f)"
   ]
  },
  {
   "cell_type": "markdown",
   "metadata": {},
   "source": [
    "### Comparision of model performances"
   ]
  },
  {
   "cell_type": "markdown",
   "metadata": {},
   "source": [
    "| Model | Accuracy | AUC Score | Precision | Recall | F1 Score |\n",
    "| :- | -: | :-: | :- | -: | :-: |\n",
    "| Logistic Regression | 0.7979 | 0.7153 | 0.6008 | 0.5515 | 0.5751 |\n",
    "| Decision Tree | 0.7278 | 0.6687 | 0.4594 | 0.5515 | 0.5013 |\n",
    "| Random Forest | 0.7960 | 0.7019 | 0.6040 | 0.5152 | 0.5561 |\n",
    "| XGBoost | 0.8002 | 0.7156 | 0.6080 | 0.5477 | 0.5763 |\n",
    "| MLP Neural Net | 0.8083 | 0.7158 | 0.6355 | 0.5324 | 0.5794 |"
   ]
  },
  {
   "cell_type": "markdown",
   "metadata": {},
   "source": [
    "<p style='color:blue;font-family:\"Verdana\";'>\n",
    "Ensemble learning methods like XGBoost & Random forest performs better than base learner (i.e. Decision Tree) <br>\n",
    "MLP Neural Network performs a little bit better than XGBoost and improves F1 score by optimizing precision & recall values.\n",
    "Linear learner Logistic Regression also performs good on par with ensemble methods.\n",
    "</p>"
   ]
  },
  {
   "cell_type": "markdown",
   "metadata": {},
   "source": [
    "### Looking at top 3 variables for Churn prediction (XGB Feature Importance)"
   ]
  },
  {
   "cell_type": "code",
   "execution_count": 15,
   "metadata": {},
   "outputs": [
    {
     "data": {
      "text/plain": [
       "Text(0.5, 0, 'Xgboost Feature Importance')"
      ]
     },
     "execution_count": 15,
     "metadata": {},
     "output_type": "execute_result"
    },
    {
     "data": {
      "image/png": "[encoded data removed]",
      "text/plain": [
       "<Figure size 1500x800 with 1 Axes>"
      ]
     },
     "metadata": {},
     "output_type": "display_data"
    }
   ],
   "source": [
    "plt.figure(figsize=(15,8))\n",
    "sorted_idx = xgb_clf.feature_importances_.argsort()\n",
    "plt.barh(X_train.columns[sorted_idx], xgb_clf.feature_importances_[sorted_idx])\n",
    "plt.xlabel(\"Xgboost Feature Importance\")"
   ]
  },
  {
   "cell_type": "code",
   "execution_count": 16,
   "metadata": {},
   "outputs": [],
   "source": [
    "def getPlot(plot, feature, Number_of_categories, hue_categories):\n",
    "    a = [p.get_height() for p in plot.patches]\n",
    "    patch = [p for p in plot.patches]\n",
    "    for i in range(Number_of_categories):\n",
    "        total = feature.value_counts().values[i]\n",
    "        for j in range(hue_categories):\n",
    "            percentage = '{:.1f}%'.format(100 * a[(j*Number_of_categories + i)]/total)\n",
    "            x = patch[(j*Number_of_categories + i)].get_x() + patch[(j*Number_of_categories + i)].get_width() / 2 - 0.05\n",
    "            y = patch[(j*Number_of_categories + i)].get_y() + patch[(j*Number_of_categories + i)].get_height() \n",
    "            ax.annotate(percentage, (x, y), size = 12)\n",
    "    plt.show()"
   ]
  },
  {
   "cell_type": "markdown",
   "metadata": {},
   "source": [
    "### Dependents Vs Churn"
   ]
  },
  {
   "cell_type": "code",
   "execution_count": 17,
   "metadata": {},
   "outputs": [
    {
     "data": {
      "image/png": "[encoded data removed]",
      "text/plain": [
       "<Figure size 1000x500 with 1 Axes>"
      ]
     },
     "metadata": {},
     "output_type": "display_data"
    }
   ],
   "source": [
    "plt.figure(figsize=(10,5))\n",
    "ax = sns.countplot(x = data.Dependents,hue = data.Churn)\n",
    "getPlot(ax,data.Dependents,2,2)"
   ]
  },
  {
   "cell_type": "markdown",
   "metadata": {},
   "source": [
    "><p style='color:red;font-family:\"Verdana\";'>\n",
    "People without dependents seems to have <b>more churn rate</b> as opposed to people with dependents. <br>\n",
    "Young customers aged less then 25 years mostly dont have any dependents should be attracted with the weekend discount offer on extra internet usage.More plans like free subscriptions to OTT platforms using the companys network, would retain the customers with No Dependents.\n",
    "</p>"
   ]
  },
  {
   "cell_type": "markdown",
   "metadata": {},
   "source": [
    "### Contract Type Vs Churn Rate"
   ]
  },
  {
   "cell_type": "code",
   "execution_count": 18,
   "metadata": {},
   "outputs": [
    {
     "data": {
      "image/png": "[encoded data removed]",
      "text/plain": [
       "<Figure size 1000x500 with 1 Axes>"
      ]
     },
     "metadata": {},
     "output_type": "display_data"
    }
   ],
   "source": [
    "plt.figure(figsize=(10,5))\n",
    "ax = sns.countplot(x = X_train['Contract_Two year'],hue = y_train.reset_index().Churn)\n",
    "getPlot(ax,X_train['Contract_Two year'],2,2)"
   ]
  },
  {
   "cell_type": "markdown",
   "metadata": {},
   "source": [
    "><p style='color:red;font-family:\"Verdana\";'>\n",
    "Month-on-Month contracts & One year contracts have <b>more churn rate</b> as opposed to Two year contracts. <br>\n",
    "Rolling out discounts & coupons on initial down-payment (or) bulk payment on long term plans encourages customers to opt for high tenure plans.\n",
    "</p>"
   ]
  },
  {
   "cell_type": "code",
   "execution_count": 19,
   "metadata": {},
   "outputs": [
    {
     "data": {
      "text/plain": [
       "Index(['customerID', 'gender', 'SeniorCitizen', 'Partner', 'Dependents',\n",
       "       'tenure', 'PhoneService', 'MultipleLines', 'OnlineSecurity',\n",
       "       'OnlineBackup', 'DeviceProtection', 'TechSupport', 'StreamingTV',\n",
       "       'StreamingMovies', 'PaperlessBilling', 'MonthlyCharges',\n",
       "       'cntInternetAmneties', 'PaymentMethod_Credit card (automatic)',\n",
       "       'PaymentMethod_Electronic check', 'PaymentMethod_Mailed check',\n",
       "       'Contract_One year', 'Contract_Two year', 'InternetService_Fiber optic',\n",
       "       'InternetService_No'],\n",
       "      dtype='object')"
      ]
     },
     "execution_count": 19,
     "metadata": {},
     "output_type": "execute_result"
    }
   ],
   "source": [
    "X_train.columns"
   ]
  },
  {
   "cell_type": "markdown",
   "metadata": {},
   "source": [
    "### Payment Mode Vs Churn Rate"
   ]
  },
  {
   "cell_type": "code",
   "execution_count": 20,
   "metadata": {},
   "outputs": [
    {
     "data": {
      "image/png": "[encoded data removed]",
      "text/plain": [
       "<Figure size 1000x500 with 1 Axes>"
      ]
     },
     "metadata": {},
     "output_type": "display_data"
    }
   ],
   "source": [
    "plt.figure(figsize=(10,5))\n",
    "ax = sns.countplot(x = X_train['PaymentMethod_Credit card (automatic)'],hue = y_train.reset_index().Churn)\n",
    "getPlot(ax,X_train['PaymentMethod_Credit card (automatic)'],2,2)"
   ]
  },
  {
   "cell_type": "markdown",
   "metadata": {},
   "source": [
    "><p style='color:red;font-family:\"Verdana\";'>\n",
    "Customer with Payment mode as Credit card automatic have <b>more churn rate</b> as opposed to other payment modes. <br>\n",
    "Including more technical features like Payment remainders, Tax invoice mailers & Daily usage alerts via electronic channels for customer with paperless payment modes (particularly Credit card automatic debit) encourages customers to opt for paperless payment modes which has more impact on customer retention.\n",
    "</p>"
   ]
  },
  {
   "cell_type": "markdown",
   "metadata": {},
   "source": [
    "## Conclusions"
   ]
  },
  {
   "cell_type": "markdown",
   "metadata": {},
   "source": [
    "><p style='color:red;font-family:\"Verdana\";'><b>\n",
    "Model performance is upto mark (ie. predicting churn with 80% accuracy) on the unseen test data. Creating new features & performing hyper parameter tuning would improve the accuracy of the existing model (which is left as exercise to the reader).<br><br>Model can be further fine-tuned for optimized decisioning by choosing appropriate cutoff threshold probability for labeling churn. Selecting lesser probability thresholding (i.e. < 0.5 for churn labeling) would allow False positives (i.e. customer might not churn, but model predicted as churn), which is okay for business, but businesses always try to reduce False negatives (i.e. customer actually churned but model predicted as not churn).\n",
    "</b>"
   ]
  }
 ],
 "metadata": {
  "kernelspec": {
   "display_name": "Python 3 (ipykernel)",
   "language": "python",
   "name": "python3"
  },
  "language_info": {
   "codemirror_mode": {
    "name": "ipython",
    "version": 3
   },
   "file_extension": ".py",
   "mimetype": "text/x-python",
   "name": "python",
   "nbconvert_exporter": "python",
   "pygments_lexer": "ipython3",
   "version": "3.10.9"
  }
 },
 "nbformat": 4,
 "nbformat_minor": 4
}
